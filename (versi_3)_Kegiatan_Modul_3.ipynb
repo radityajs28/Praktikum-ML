{
  "nbformat": 4,
  "nbformat_minor": 0,
  "metadata": {
    "colab": {
      "name": "(versi 3) Kegiatan Modul 3.ipynb",
      "provenance": [],
      "collapsed_sections": [
        "-muSoJjnFt8y"
      ],
      "include_colab_link": true
    },
    "kernelspec": {
      "name": "python3",
      "display_name": "Python 3"
    },
    "language_info": {
      "name": "python"
    },
    "accelerator": "GPU"
  },
  "cells": [
    {
      "cell_type": "markdown",
      "metadata": {
        "id": "view-in-github",
        "colab_type": "text"
      },
      "source": [
        "<a href=\"https://colab.research.google.com/github/radityajs28/Praktikum-ML/blob/main/(versi_3)_Kegiatan_Modul_3.ipynb\" target=\"_parent\"><img src=\"https://colab.research.google.com/assets/colab-badge.svg\" alt=\"Open In Colab\"/></a>"
      ]
    },
    {
      "cell_type": "markdown",
      "metadata": {
        "id": "wQBa4hXoxDUd"
      },
      "source": [
        "# **Soal Praktikum Overfitting Handling #1**"
      ]
    },
    {
      "cell_type": "markdown",
      "metadata": {
        "id": "06V87X5rVRM2"
      },
      "source": [
        "## Kegiatan 1 **(Individu)** \n",
        "70 poin"
      ]
    },
    {
      "cell_type": "markdown",
      "metadata": {
        "id": "u6kTqqtESNnc"
      },
      "source": [
        "**Peraturan :**\n",
        "* Tidak boleh ada error dalam kode program\n",
        "* Dalam modul ini tidak diperbolehkan menggunakan teknik transfer learning dari pretrain model baik yang telah dibangun sendiri atau anda dapatkan dari sumber lain (tensorflow, keras, dan sebagainya)\n",
        "* Perhatikan langkah demi langkah yang diperintahkan dalam kegiatan ini"
      ]
    },
    {
      "cell_type": "markdown",
      "metadata": {
        "id": "-muSoJjnFt8y"
      },
      "source": [
        "### Pengenalan tugas kegiatan 1"
      ]
    },
    {
      "cell_type": "markdown",
      "metadata": {
        "id": "LxFmKc3D1apX"
      },
      "source": [
        "Dataset yang akan anda gunakan dalam kegiatan ini adalah dataset [Rock Paper Scissors](https://www.kaggle.com/drgfreeman/rockpaperscissors).  Demi mempermudah anda dalam mengerjakan modul ini maka akan sangat disarankan untuk menggunakan [google colab](https://colab.research.google.com/). Anda dapat menggunakan google colab untuk mendownload langsung dataset dari kaggle dan menyimpannya dalam google drive anda. Untuk kenyamanan dan ruang kerja yang besar akan lebih baik anda menggunakan email kampus untuk menyimpan dataset yang anda gunakan. Perhatikan langkah berikut untuk melakukan setting environment anda."
      ]
    },
    {
      "cell_type": "markdown",
      "metadata": {
        "id": "fLoYIWSbKgko"
      },
      "source": [
        "### 1. Initial process\n",
        "\n"
      ]
    },
    {
      "cell_type": "markdown",
      "metadata": {
        "id": "8yzN1yOK1V-K"
      },
      "source": [
        "* Mount drive terlebih dahulu\n",
        "\n",
        "* Untuk dapat mengakses dataset ini anda diharuskan memiliki akun kaggle. Jika belum memilikinya buat satu akun pribadi.\n",
        "\n",
        "* Download kaggle API.json kemudian upload dalam google drive anda.\n",
        "\n",
        "* Ubah lokasi direktori kerja anda ke direktori dimana anda menyimpan kaggle.json\n",
        "\n",
        "* Buka laman dataset kemudian Copy API Command.\n",
        "\n",
        "* Jalankan perintah untuk mendownload dataset dari kaggle menggunakan google colab.\n",
        "\n",
        "* Gunakan tutorial berikut untuk lebih jelasnya : [Fetch Kaggle Dataset into Google Colab](https://medium.com/analytics-vidhya/how-to-fetch-kaggle-datasets-into-google-colab-ea682569851a)\n",
        "\n",
        "* Untuk selanjutnya pahami code dibawah dengan baik."
      ]
    },
    {
      "cell_type": "code",
      "metadata": {
        "id": "_iP7_H-5ubtG",
        "colab": {
          "base_uri": "https://localhost:8080/"
        },
        "outputId": "424dabd1-00a2-4ebd-c9ca-9df48017caa8"
      },
      "source": [
        "from google.colab import drive\n",
        "drive.mount('/content/drive')"
      ],
      "execution_count": 1,
      "outputs": [
        {
          "output_type": "stream",
          "name": "stdout",
          "text": [
            "Mounted at /content/drive\n"
          ]
        }
      ]
    },
    {
      "cell_type": "code",
      "metadata": {
        "id": "fWkAcnefSPKI"
      },
      "source": [
        "# Definisikan path kaggle json\n",
        "# Sesuaikan dengan path anda\n",
        "import os\n",
        "os.environ['KAGGLE_CONFIG_DIR'] = \"/content/drive/My Drive/DATASETS\""
      ],
      "execution_count": 2,
      "outputs": []
    },
    {
      "cell_type": "code",
      "metadata": {
        "id": "IPUJ-XM5S4Th",
        "colab": {
          "base_uri": "https://localhost:8080/"
        },
        "outputId": "5d9573c5-b08e-4251-c874-aeccb519dcf0"
      },
      "source": [
        "# Ubah lokasi direktori kerja\n",
        "# Sesuaikan dengan path anda\n",
        "%cd /content/drive/My Drive/DATASETS"
      ],
      "execution_count": 3,
      "outputs": [
        {
          "output_type": "stream",
          "name": "stdout",
          "text": [
            "/content/drive/My Drive/DATASETS\n"
          ]
        }
      ]
    },
    {
      "cell_type": "code",
      "metadata": {
        "id": "69Bbmd-TCGhh",
        "colab": {
          "base_uri": "https://localhost:8080/"
        },
        "outputId": "5f2ccb3b-2cdc-449a-94ad-e836d9cf79f6"
      },
      "source": [
        "# Cek apakah api sudah terbaca oleh sistem\n",
        "!ls  "
      ],
      "execution_count": 4,
      "outputs": [
        {
          "output_type": "stream",
          "name": "stdout",
          "text": [
            "batuguntingkertas  dataset  kaggle.json\n"
          ]
        }
      ]
    },
    {
      "cell_type": "markdown",
      "metadata": {
        "id": "7wGGZC8vTX0A"
      },
      "source": [
        "* Paste API Command dari kaggle dataset yang telah anda copy sebelumnya dan tambahkan tanda seru didepannya.\n",
        "* Pastikan anda menggunakan akun google dari kampus untuk mendapatkan storage penyimpanan unlimited.\n",
        "* Lebih disarankan untuk menggunakan google colab karena proses download data lebih cepat dan stabil daripada download manual dan menggunakan jupyter notebook."
      ]
    },
    {
      "cell_type": "code",
      "metadata": {
        "id": "emSTR53KTGW9",
        "colab": {
          "base_uri": "https://localhost:8080/"
        },
        "outputId": "6dc3929b-2069-4cd2-97ab-a4a382de6b8c"
      },
      "source": [
        "!kaggle datasets download -d drgfreeman/rockpaperscissors"
      ],
      "execution_count": null,
      "outputs": [
        {
          "output_type": "stream",
          "name": "stdout",
          "text": [
            "Downloading rockpaperscissors.zip to /content/drive/My Drive/dataset\n",
            " 99% 303M/306M [00:03<00:00, 88.3MB/s]\n",
            "100% 306M/306M [00:03<00:00, 88.4MB/s]\n"
          ]
        }
      ]
    },
    {
      "cell_type": "code",
      "metadata": {
        "id": "JcpagHVWbdDY",
        "colab": {
          "base_uri": "https://localhost:8080/"
        },
        "outputId": "0cae5adb-61fc-423e-ebf9-66622787a05f"
      },
      "source": [
        "# Cek isi direktori kerja dan memastikan dataset telah berhasil didownload.\n",
        "!ls"
      ],
      "execution_count": 6,
      "outputs": [
        {
          "output_type": "stream",
          "name": "stdout",
          "text": [
            "batuguntingkertas  dataset  kaggle.json\n"
          ]
        }
      ]
    },
    {
      "cell_type": "code",
      "metadata": {
        "id": "3HDyNsR3bam4"
      },
      "source": [
        "# Ekstrak file dataset dan hapus file zip dataset agar tidak memakan banyak tempat.\n",
        "!unzip \\*.zip &> /dev/null && rm *.zip"
      ],
      "execution_count": null,
      "outputs": []
    },
    {
      "cell_type": "code",
      "metadata": {
        "id": "Vgw_k1zihmkK",
        "colab": {
          "base_uri": "https://localhost:8080/"
        },
        "outputId": "47d1f1a2-5138-4da3-a7f1-a244e273a89a"
      },
      "source": [
        "# Cek isi direktori kerja untuk memastikan dataset telah berhasil diekstrak.\n",
        "!ls"
      ],
      "execution_count": null,
      "outputs": [
        {
          "output_type": "stream",
          "name": "stdout",
          "text": [
            "kaggle.json  paper  README_rpc-cv-images.txt  rock  rps-cv-images  scissors\n"
          ]
        }
      ]
    },
    {
      "cell_type": "markdown",
      "metadata": {
        "id": "dPVmxstVUvyL"
      },
      "source": [
        "Buat folder baru bernama `dataset` dan memindahkan folder `paper, rock, scissors` kedalam folder `dataset`. Selanjutnya, lakukan splitting dataset menjadi 3 bagian `train, test, val` dan simpan ketiga folder tersebut diluar folder `dataset`. Data `train dan val` akan digunakan ketika anda melakukan training model. Dan data `test` akan anda gunakan ketika anda melakukan prediksi unseen data menggunakan model yang telah anda latih.\n",
        "\n",
        "*Ingat google colab juga menerima command berbasis linux.*"
      ]
    },
    {
      "cell_type": "code",
      "metadata": {
        "id": "EbsMEBpr9CcC"
      },
      "source": [
        "!mkdir dataset"
      ],
      "execution_count": null,
      "outputs": []
    },
    {
      "cell_type": "code",
      "metadata": {
        "id": "pmGBjWnN9GkE"
      },
      "source": [
        "!mv -t dataset paper rock scissors"
      ],
      "execution_count": null,
      "outputs": []
    },
    {
      "cell_type": "code",
      "metadata": {
        "id": "XF9RtG0W9UXq"
      },
      "source": [
        "!mkdir train\n",
        "!mkdir test\n",
        "!mkdir val"
      ],
      "execution_count": null,
      "outputs": []
    },
    {
      "cell_type": "code",
      "metadata": {
        "id": "I5jaU1Ey91jr"
      },
      "source": [
        "!rm -rf rps-cv-images\n",
        "!rm *.txt"
      ],
      "execution_count": null,
      "outputs": []
    },
    {
      "cell_type": "code",
      "metadata": {
        "id": "VAIkqB1wdrvk"
      },
      "source": [
        "import os\n",
        "kertas = os.listdir('/content/drive/MyDrive/DATASETS/dataset/paper')\n",
        "batu = os.listdir('/content/drive/MyDrive/DATASETS/dataset/rock')\n",
        "gunting = os.listdir('/content/drive/MyDrive/DATASETS/dataset/scissors')"
      ],
      "execution_count": null,
      "outputs": []
    },
    {
      "cell_type": "code",
      "metadata": {
        "colab": {
          "base_uri": "https://localhost:8080/"
        },
        "id": "p7ysJ4iLebSS",
        "outputId": "9e966081-17f8-4409-eec9-edffa4de7174"
      },
      "source": [
        "print('kertas :' + str(len(kertas)))\n",
        "print('batu :' + str(len(batu)))\n",
        "print('gunting :' + str(len(gunting)))"
      ],
      "execution_count": null,
      "outputs": [
        {
          "output_type": "stream",
          "name": "stdout",
          "text": [
            "kertas :712\n",
            "batu :726\n",
            "gunting :750\n"
          ]
        }
      ]
    },
    {
      "cell_type": "code",
      "metadata": {
        "colab": {
          "base_uri": "https://localhost:8080/"
        },
        "id": "EesF_Kn42Zy3",
        "outputId": "4db7f40f-07c1-443a-88c9-8bca1ab88ac6"
      },
      "source": [
        "!mkdir batuguntingkertas\n",
        "!mv -t batuguntingkertas test train val"
      ],
      "execution_count": null,
      "outputs": [
        {
          "output_type": "stream",
          "name": "stdout",
          "text": [
            "mkdir: cannot create directory ‘batuguntingkertas’: File exists\n"
          ]
        }
      ]
    },
    {
      "cell_type": "code",
      "metadata": {
        "colab": {
          "base_uri": "https://localhost:8080/"
        },
        "id": "1FpRoyQN28ZG",
        "outputId": "c0bd28fa-eb97-4687-e2c0-b90f4ec940fd"
      },
      "source": [
        "!ls batuguntingkertas"
      ],
      "execution_count": null,
      "outputs": [
        {
          "output_type": "stream",
          "name": "stdout",
          "text": [
            "test  train  val\n"
          ]
        }
      ]
    },
    {
      "cell_type": "code",
      "metadata": {
        "id": "cXQsF9cp3Et_"
      },
      "source": [
        "base_dir = '/content/drive/MyDrive/DATASETS/batuguntingkertas'\n",
        "data_dir = '/content/drive/MyDrive/DATASETS/dataset'"
      ],
      "execution_count": 5,
      "outputs": []
    },
    {
      "cell_type": "code",
      "metadata": {
        "colab": {
          "base_uri": "https://localhost:8080/"
        },
        "id": "efjT-1Y01C7I",
        "outputId": "f4682bf9-68f6-4db0-e50f-a95263214afe"
      },
      "source": [
        "!pip install split-folders"
      ],
      "execution_count": 8,
      "outputs": [
        {
          "output_type": "stream",
          "name": "stdout",
          "text": [
            "Collecting split-folders\n",
            "  Downloading split_folders-0.4.3-py3-none-any.whl (7.4 kB)\n",
            "Installing collected packages: split-folders\n",
            "Successfully installed split-folders-0.4.3\n"
          ]
        }
      ]
    },
    {
      "cell_type": "code",
      "metadata": {
        "colab": {
          "base_uri": "https://localhost:8080/"
        },
        "id": "N7isREWv32OY",
        "outputId": "98fdeaa0-e4db-4422-f184-95675597633a"
      },
      "source": [
        "import splitfolders\n",
        "splitfolders.ratio(data_dir, output=base_dir, seed=1337, ratio=(.7,.15,.15), group_prefix=None)"
      ],
      "execution_count": null,
      "outputs": [
        {
          "output_type": "stream",
          "name": "stderr",
          "text": [
            "Copying files: 2188 files [09:45,  3.74 files/s]\n"
          ]
        }
      ]
    },
    {
      "cell_type": "code",
      "metadata": {
        "id": "N61YblHq67Sq"
      },
      "source": [
        "tr_kertas = os.listdir('/content/drive/MyDrive/DATASETS/batuguntingkertas/train/paper')\n",
        "tr_batu = os.listdir('/content/drive/MyDrive/DATASETS/batuguntingkertas/train/rock')\n",
        "tr_gunting = os.listdir('/content/drive/MyDrive/DATASETS/batuguntingkertas/train/scissors')\n",
        "\n",
        "ts_kertas = os.listdir('/content/drive/MyDrive/DATASETS/batuguntingkertas/test/paper')\n",
        "ts_batu = os.listdir('/content/drive/MyDrive/DATASETS/batuguntingkertas/test/rock')\n",
        "ts_gunting = os.listdir('/content/drive/MyDrive/DATASETS/batuguntingkertas/test/scissors')\n",
        "\n",
        "val_kertas = os.listdir('/content/drive/MyDrive/DATASETS/batuguntingkertas/val/paper')\n",
        "val_batu = os.listdir('/content/drive/MyDrive/DATASETS/batuguntingkertas/val/rock')\n",
        "val_gunting = os.listdir('/content/drive/MyDrive/DATASETS/batuguntingkertas/val/scissors')"
      ],
      "execution_count": 6,
      "outputs": []
    },
    {
      "cell_type": "code",
      "metadata": {
        "colab": {
          "base_uri": "https://localhost:8080/"
        },
        "id": "2aeta9U77iD2",
        "outputId": "158d9a37-4cfc-435c-a0eb-cf7fce42f8ab"
      },
      "source": [
        "print('train kertas :' + str(len(tr_kertas)))\n",
        "print('train batu :' + str(len(tr_batu)))\n",
        "print('train gunting :' + str(len(tr_gunting)))\n",
        "\n",
        "print('test kertas :' + str(len(ts_kertas)))\n",
        "print('test batu :' + str(len(ts_batu)))\n",
        "print('test gunting :' + str(len(ts_gunting)))\n",
        "\n",
        "print('val kertas :' + str(len(val_kertas)))\n",
        "print('val batu :' + str(len(val_batu)))\n",
        "print('val gunting :' + str(len(val_gunting)))"
      ],
      "execution_count": 7,
      "outputs": [
        {
          "output_type": "stream",
          "name": "stdout",
          "text": [
            "train kertas :498\n",
            "train batu :508\n",
            "train gunting :525\n",
            "test kertas :108\n",
            "test batu :110\n",
            "test gunting :113\n",
            "val kertas :106\n",
            "val batu :108\n",
            "val gunting :112\n"
          ]
        }
      ]
    },
    {
      "cell_type": "markdown",
      "metadata": {
        "id": "UxLpoRM6i6SV"
      },
      "source": [
        "### 2. Data Preprocessing"
      ]
    },
    {
      "cell_type": "markdown",
      "metadata": {
        "id": "ZJHBci_m0vKy"
      },
      "source": [
        "Kita anggap dataset yang kita miliki merupakan dataset yang telah bersih dan siap digunakan untuk proses training model. Namun agar data yang kita miliki dapat diproses oleh model maka kita perlu melakukan sedikit proses augmentasi sederhana. \n",
        "\n",
        "**NOTE :** Penjelasan augmentasi secara detail akan dibahas pada modul selanjutnya. Disini kita akan mengunakan augmentasi sederhana saja seperti resize, flip dan rotation."
      ]
    },
    {
      "cell_type": "markdown",
      "metadata": {
        "id": "fxkE0duhmOt4"
      },
      "source": [
        "Lakukan proses agumentasi sederhana pada dataset anda menggunakan `ImageDataGenerator` dengan ketentuan melakukan proses seperti berikut :\n",
        "\n",
        "* Resize\n",
        "* Rescaling\n",
        "* Color Mode\n",
        "* Shuffle\n",
        "* Class Mode\n",
        "\n",
        "Terapkan semua proses diatas pada data `train, test dan validation`."
      ]
    },
    {
      "cell_type": "code",
      "metadata": {
        "id": "Ga4Hz63e2bpl"
      },
      "source": [
        "# TULIS KODE ANDA DISINI\n",
        "train_path = os.path.join(base_dir,'train')\n",
        "test_path = os.path.join(base_dir,'test')\n",
        "val_path = os.path.join(base_dir,'val')"
      ],
      "execution_count": 8,
      "outputs": []
    },
    {
      "cell_type": "code",
      "metadata": {
        "colab": {
          "base_uri": "https://localhost:8080/"
        },
        "id": "XVp_98ey8vpS",
        "outputId": "9fdde73c-004d-46b1-cf6f-2434861ad30c"
      },
      "source": [
        "from keras.preprocessing.image import ImageDataGenerator\n",
        "from sklearn.utils import shuffle\n",
        "\n",
        "Batch_size=32\n",
        "augmen_gen = ImageDataGenerator(rescale=1. /255,\n",
        "                                rotation_range=40,\n",
        "                                width_shift_range=0.2,\n",
        "                                height_shift_range=0.2,\n",
        "                                zoom_range=0.2,\n",
        "                                horizontal_flip=True,\n",
        "                                fill_mode='nearest')\n",
        "\n",
        "train_gen = augmen_gen.flow_from_directory(\n",
        "    train_path,\n",
        "    class_mode = 'categorical',\n",
        "    shuffle=True,\n",
        "    target_size = (224,224),\n",
        "    batch_size = Batch_size,\n",
        "    color_mode = 'rgb'\n",
        ")\n",
        "\n",
        "val_gen = augmen_gen.flow_from_directory(\n",
        "    val_path,\n",
        "    class_mode = 'categorical',\n",
        "    shuffle=True,\n",
        "    target_size = (224,224),\n",
        "    batch_size = Batch_size,\n",
        "    color_mode = 'rgb'\n",
        ")\n",
        "\n",
        "test_gen = augmen_gen.flow_from_directory(\n",
        "    test_path,\n",
        "    class_mode = 'categorical',\n",
        "    shuffle=True,\n",
        "    target_size = (224,224),\n",
        "    batch_size = Batch_size,\n",
        "    color_mode = 'rgb'\n",
        ")"
      ],
      "execution_count": 9,
      "outputs": [
        {
          "output_type": "stream",
          "name": "stdout",
          "text": [
            "Found 1531 images belonging to 3 classes.\n",
            "Found 326 images belonging to 3 classes.\n",
            "Found 331 images belonging to 3 classes.\n"
          ]
        }
      ]
    },
    {
      "cell_type": "markdown",
      "metadata": {
        "id": "iNr_kRbxyZYT"
      },
      "source": [
        "### 3. Definisikan Model CNN"
      ]
    },
    {
      "cell_type": "markdown",
      "metadata": {
        "id": "5I939-GX0qsZ"
      },
      "source": [
        "Bangun model CNN dan lakukan evaluasi sesuai kriteria **WAJIB** berikut:\n",
        "\n",
        "* Menerapkan proses Convolution \n",
        "* Menerapkan proses Pooling\n",
        "* Menerapkan Dropout\n",
        "* Menerpakan BatchNormalization\n",
        "* Evaluasi model menggunakan grafik loss dan accuracy\n",
        "* Evaluasi menggunakan classification report\n",
        "* Evaluasi menggunakan confusion matrix\n",
        "* Pastikan nilai akurasi model > 80%\n",
        "* Mendefinisikan minimal 100 epoch untuk masing-masing model\n",
        "* Melakukan prediksi minimal 15 gambar acak yang dapat mewakili seluruh kelas\n",
        "* Menampilkan input gambar yang di prediksi beserta label hasil prediksi, nilai akurasi prediksi, dan lama waktu prediksi dalam sebuah plot. (15 gambar ditampilkan dalam 1 plot)\n",
        "* Save model dalam file `json` dan simpan bobot dalam file `HDF5`\n",
        "* Pastikan model anda dapat memprediksi unseen data dengan benar."
      ]
    },
    {
      "cell_type": "code",
      "metadata": {
        "id": "_BwlkwcO2fpf"
      },
      "source": [
        "# TULIS KODE ANDA DISINI\n",
        "from tensorflow.keras.models import Sequential\n",
        "from tensorflow.keras.layers import InputLayer, Dense, Conv2D, MaxPool2D, Flatten, BatchNormalization, Dropout\n",
        "from tensorflow.keras.optimizers import Adam\n",
        "import time"
      ],
      "execution_count": 10,
      "outputs": []
    },
    {
      "cell_type": "code",
      "metadata": {
        "id": "inzmm1mH3pEW"
      },
      "source": [
        "model = Sequential()\n",
        "\n",
        "model.add(InputLayer(input_shape=[224,224,3]))\n",
        "model.add(Conv2D(filters=32, kernel_size=3, strides=1, padding='same', activation='relu'))\n",
        "model.add(MaxPool2D(pool_size=2, padding='same'))\n",
        "model.add(Conv2D(filters=64, kernel_size=3, strides=1, padding='same', activation='relu'))\n",
        "model.add(MaxPool2D(pool_size=2, padding='same'))\n",
        "model.add(Conv2D(filters=128, kernel_size=3, strides=1, padding='same', activation='relu'))\n",
        "model.add(MaxPool2D(pool_size=2, padding='same'))\n",
        "model.add(Dropout(0.25))\n",
        "model.add(BatchNormalization())\n",
        "model.add(Flatten())\n",
        "\n",
        "model.add(Dense(128, activation='relu'))\n",
        "model.add(Dropout(0.3))\n",
        "model.add(Dense(3, activation='softmax'))"
      ],
      "execution_count": 11,
      "outputs": []
    },
    {
      "cell_type": "code",
      "metadata": {
        "colab": {
          "base_uri": "https://localhost:8080/"
        },
        "id": "K0cP3jXP4emC",
        "outputId": "008e91eb-4798-4747-a2f9-396332058768"
      },
      "source": [
        "print(model.summary())"
      ],
      "execution_count": 13,
      "outputs": [
        {
          "output_type": "stream",
          "name": "stdout",
          "text": [
            "Model: \"sequential\"\n",
            "_________________________________________________________________\n",
            "Layer (type)                 Output Shape              Param #   \n",
            "=================================================================\n",
            "conv2d (Conv2D)              (None, 224, 224, 32)      896       \n",
            "_________________________________________________________________\n",
            "max_pooling2d (MaxPooling2D) (None, 112, 112, 32)      0         \n",
            "_________________________________________________________________\n",
            "conv2d_1 (Conv2D)            (None, 112, 112, 64)      18496     \n",
            "_________________________________________________________________\n",
            "max_pooling2d_1 (MaxPooling2 (None, 56, 56, 64)        0         \n",
            "_________________________________________________________________\n",
            "conv2d_2 (Conv2D)            (None, 56, 56, 128)       73856     \n",
            "_________________________________________________________________\n",
            "max_pooling2d_2 (MaxPooling2 (None, 28, 28, 128)       0         \n",
            "_________________________________________________________________\n",
            "dropout (Dropout)            (None, 28, 28, 128)       0         \n",
            "_________________________________________________________________\n",
            "batch_normalization (BatchNo (None, 28, 28, 128)       512       \n",
            "_________________________________________________________________\n",
            "flatten (Flatten)            (None, 100352)            0         \n",
            "_________________________________________________________________\n",
            "dense (Dense)                (None, 128)               12845184  \n",
            "_________________________________________________________________\n",
            "dropout_1 (Dropout)          (None, 128)               0         \n",
            "_________________________________________________________________\n",
            "dense_1 (Dense)              (None, 3)                 387       \n",
            "=================================================================\n",
            "Total params: 12,939,331\n",
            "Trainable params: 12,939,075\n",
            "Non-trainable params: 256\n",
            "_________________________________________________________________\n",
            "None\n"
          ]
        }
      ]
    },
    {
      "cell_type": "code",
      "metadata": {
        "colab": {
          "base_uri": "https://localhost:8080/"
        },
        "id": "tJtb-hNK4k_q",
        "outputId": "a00295f7-0ddd-4002-c44c-62ec1bcdefd5"
      },
      "source": [
        "learning_rate=0.00001\n",
        "model.compile(loss='categorical_crossentropy',\n",
        "              optimizer=Adam(lr=learning_rate),\n",
        "              metrics='accuracy')"
      ],
      "execution_count": 12,
      "outputs": [
        {
          "output_type": "stream",
          "name": "stderr",
          "text": [
            "/usr/local/lib/python3.7/dist-packages/keras/optimizer_v2/optimizer_v2.py:356: UserWarning: The `lr` argument is deprecated, use `learning_rate` instead.\n",
            "  \"The `lr` argument is deprecated, use `learning_rate` instead.\")\n"
          ]
        }
      ]
    },
    {
      "cell_type": "code",
      "metadata": {
        "colab": {
          "base_uri": "https://localhost:8080/"
        },
        "id": "bXg6RrDt-gBr",
        "outputId": "d77dfd34-f1e7-4210-a346-8ee04ab9d61d"
      },
      "source": [
        "start = time.time()\n",
        "H = model.fit_generator(train_gen,\n",
        "                        epochs=100,\n",
        "                        validation_data=val_gen,\n",
        "                        validation_steps = 4,\n",
        "                        verbose=1)\n",
        "End = time.time()\n",
        "print('training time: ', End-start,'s')"
      ],
      "execution_count": 16,
      "outputs": [
        {
          "output_type": "stream",
          "name": "stderr",
          "text": [
            "/usr/local/lib/python3.7/dist-packages/keras/engine/training.py:1972: UserWarning: `Model.fit_generator` is deprecated and will be removed in a future version. Please use `Model.fit`, which supports generators.\n",
            "  warnings.warn('`Model.fit_generator` is deprecated and '\n"
          ]
        },
        {
          "output_type": "stream",
          "name": "stdout",
          "text": [
            "Epoch 1/100\n",
            "48/48 [==============================] - 333s 7s/step - loss: 1.1928 - accuracy: 0.3978 - val_loss: 1.0839 - val_accuracy: 0.4141\n",
            "Epoch 2/100\n",
            "48/48 [==============================] - 43s 894ms/step - loss: 1.0200 - accuracy: 0.4990 - val_loss: 1.0718 - val_accuracy: 0.5391\n",
            "Epoch 3/100\n",
            "48/48 [==============================] - 34s 718ms/step - loss: 0.9999 - accuracy: 0.5127 - val_loss: 1.0635 - val_accuracy: 0.6172\n",
            "Epoch 4/100\n",
            "48/48 [==============================] - 32s 666ms/step - loss: 0.9230 - accuracy: 0.5558 - val_loss: 1.0427 - val_accuracy: 0.6562\n",
            "Epoch 5/100\n",
            "48/48 [==============================] - 28s 590ms/step - loss: 0.8883 - accuracy: 0.5937 - val_loss: 1.0256 - val_accuracy: 0.6875\n",
            "Epoch 6/100\n",
            "48/48 [==============================] - 28s 584ms/step - loss: 0.8105 - accuracy: 0.6395 - val_loss: 1.0008 - val_accuracy: 0.6562\n",
            "Epoch 7/100\n",
            "48/48 [==============================] - 27s 570ms/step - loss: 0.7776 - accuracy: 0.6604 - val_loss: 0.9422 - val_accuracy: 0.7422\n",
            "Epoch 8/100\n",
            "48/48 [==============================] - 28s 583ms/step - loss: 0.7050 - accuracy: 0.6950 - val_loss: 0.9052 - val_accuracy: 0.6250\n",
            "Epoch 9/100\n",
            "48/48 [==============================] - 27s 560ms/step - loss: 0.6439 - accuracy: 0.7427 - val_loss: 0.7953 - val_accuracy: 0.7812\n",
            "Epoch 10/100\n",
            "48/48 [==============================] - 27s 558ms/step - loss: 0.6028 - accuracy: 0.7472 - val_loss: 0.7321 - val_accuracy: 0.7500\n",
            "Epoch 11/100\n",
            "48/48 [==============================] - 27s 553ms/step - loss: 0.5758 - accuracy: 0.7740 - val_loss: 0.6298 - val_accuracy: 0.7812\n",
            "Epoch 12/100\n",
            "48/48 [==============================] - 27s 572ms/step - loss: 0.5475 - accuracy: 0.7766 - val_loss: 0.6017 - val_accuracy: 0.8516\n",
            "Epoch 13/100\n",
            "48/48 [==============================] - 28s 574ms/step - loss: 0.5102 - accuracy: 0.8106 - val_loss: 0.4065 - val_accuracy: 0.9453\n",
            "Epoch 14/100\n",
            "48/48 [==============================] - 27s 568ms/step - loss: 0.4358 - accuracy: 0.8426 - val_loss: 0.4197 - val_accuracy: 0.8594\n",
            "Epoch 15/100\n",
            "48/48 [==============================] - 27s 567ms/step - loss: 0.4463 - accuracy: 0.8341 - val_loss: 0.3611 - val_accuracy: 0.9141\n",
            "Epoch 16/100\n",
            "48/48 [==============================] - 27s 562ms/step - loss: 0.4409 - accuracy: 0.8308 - val_loss: 0.3720 - val_accuracy: 0.8984\n",
            "Epoch 17/100\n",
            "48/48 [==============================] - 27s 566ms/step - loss: 0.4054 - accuracy: 0.8530 - val_loss: 0.2937 - val_accuracy: 0.9219\n",
            "Epoch 18/100\n",
            "48/48 [==============================] - 27s 566ms/step - loss: 0.3704 - accuracy: 0.8687 - val_loss: 0.2176 - val_accuracy: 0.9531\n",
            "Epoch 19/100\n",
            "48/48 [==============================] - 27s 562ms/step - loss: 0.3518 - accuracy: 0.8752 - val_loss: 0.2771 - val_accuracy: 0.9062\n",
            "Epoch 20/100\n",
            "48/48 [==============================] - 27s 561ms/step - loss: 0.3770 - accuracy: 0.8628 - val_loss: 0.2677 - val_accuracy: 0.9062\n",
            "Epoch 21/100\n",
            "48/48 [==============================] - 27s 553ms/step - loss: 0.3481 - accuracy: 0.8694 - val_loss: 0.2247 - val_accuracy: 0.9453\n",
            "Epoch 22/100\n",
            "48/48 [==============================] - 27s 562ms/step - loss: 0.3195 - accuracy: 0.8870 - val_loss: 0.2147 - val_accuracy: 0.9297\n",
            "Epoch 23/100\n",
            "48/48 [==============================] - 27s 566ms/step - loss: 0.3058 - accuracy: 0.8981 - val_loss: 0.2800 - val_accuracy: 0.8828\n",
            "Epoch 24/100\n",
            "48/48 [==============================] - 27s 569ms/step - loss: 0.3189 - accuracy: 0.8805 - val_loss: 0.2159 - val_accuracy: 0.9297\n",
            "Epoch 25/100\n",
            "48/48 [==============================] - 27s 566ms/step - loss: 0.2782 - accuracy: 0.9138 - val_loss: 0.2392 - val_accuracy: 0.9375\n",
            "Epoch 26/100\n",
            "48/48 [==============================] - 27s 567ms/step - loss: 0.2862 - accuracy: 0.9046 - val_loss: 0.2289 - val_accuracy: 0.9297\n",
            "Epoch 27/100\n",
            "48/48 [==============================] - 28s 574ms/step - loss: 0.2830 - accuracy: 0.8942 - val_loss: 0.2292 - val_accuracy: 0.9062\n",
            "Epoch 28/100\n",
            "48/48 [==============================] - 27s 568ms/step - loss: 0.2751 - accuracy: 0.9046 - val_loss: 0.1637 - val_accuracy: 0.9375\n",
            "Epoch 29/100\n",
            "48/48 [==============================] - 27s 561ms/step - loss: 0.2514 - accuracy: 0.9138 - val_loss: 0.2537 - val_accuracy: 0.9141\n",
            "Epoch 30/100\n",
            "48/48 [==============================] - 27s 561ms/step - loss: 0.2631 - accuracy: 0.9053 - val_loss: 0.2226 - val_accuracy: 0.9141\n",
            "Epoch 31/100\n",
            "48/48 [==============================] - 27s 565ms/step - loss: 0.2269 - accuracy: 0.9216 - val_loss: 0.2177 - val_accuracy: 0.9297\n",
            "Epoch 32/100\n",
            "48/48 [==============================] - 28s 575ms/step - loss: 0.2526 - accuracy: 0.9164 - val_loss: 0.1593 - val_accuracy: 0.9531\n",
            "Epoch 33/100\n",
            "48/48 [==============================] - 27s 568ms/step - loss: 0.2312 - accuracy: 0.9190 - val_loss: 0.1174 - val_accuracy: 0.9766\n",
            "Epoch 34/100\n",
            "48/48 [==============================] - 27s 572ms/step - loss: 0.2259 - accuracy: 0.9184 - val_loss: 0.2202 - val_accuracy: 0.9453\n",
            "Epoch 35/100\n",
            "48/48 [==============================] - 27s 569ms/step - loss: 0.2173 - accuracy: 0.9282 - val_loss: 0.1751 - val_accuracy: 0.9141\n",
            "Epoch 36/100\n",
            "48/48 [==============================] - 27s 569ms/step - loss: 0.2391 - accuracy: 0.9131 - val_loss: 0.1384 - val_accuracy: 0.9688\n",
            "Epoch 37/100\n",
            "48/48 [==============================] - 27s 562ms/step - loss: 0.2250 - accuracy: 0.9255 - val_loss: 0.1845 - val_accuracy: 0.9531\n",
            "Epoch 38/100\n",
            "48/48 [==============================] - 27s 570ms/step - loss: 0.2092 - accuracy: 0.9275 - val_loss: 0.1443 - val_accuracy: 0.9609\n",
            "Epoch 39/100\n",
            "48/48 [==============================] - 27s 565ms/step - loss: 0.1991 - accuracy: 0.9288 - val_loss: 0.1597 - val_accuracy: 0.9531\n",
            "Epoch 40/100\n",
            "48/48 [==============================] - 27s 557ms/step - loss: 0.2132 - accuracy: 0.9236 - val_loss: 0.1744 - val_accuracy: 0.9609\n",
            "Epoch 41/100\n",
            "48/48 [==============================] - 27s 557ms/step - loss: 0.2150 - accuracy: 0.9229 - val_loss: 0.1042 - val_accuracy: 0.9766\n",
            "Epoch 42/100\n",
            "48/48 [==============================] - 27s 560ms/step - loss: 0.1779 - accuracy: 0.9379 - val_loss: 0.1690 - val_accuracy: 0.9453\n",
            "Epoch 43/100\n",
            "48/48 [==============================] - 27s 562ms/step - loss: 0.1998 - accuracy: 0.9406 - val_loss: 0.1007 - val_accuracy: 0.9688\n",
            "Epoch 44/100\n",
            "48/48 [==============================] - 27s 573ms/step - loss: 0.1891 - accuracy: 0.9373 - val_loss: 0.1266 - val_accuracy: 0.9688\n",
            "Epoch 45/100\n",
            "48/48 [==============================] - 28s 573ms/step - loss: 0.1951 - accuracy: 0.9340 - val_loss: 0.1788 - val_accuracy: 0.9453\n",
            "Epoch 46/100\n",
            "48/48 [==============================] - 27s 570ms/step - loss: 0.1713 - accuracy: 0.9406 - val_loss: 0.1060 - val_accuracy: 0.9609\n",
            "Epoch 47/100\n",
            "48/48 [==============================] - 27s 559ms/step - loss: 0.2045 - accuracy: 0.9334 - val_loss: 0.1565 - val_accuracy: 0.9453\n",
            "Epoch 48/100\n",
            "48/48 [==============================] - 27s 562ms/step - loss: 0.1865 - accuracy: 0.9393 - val_loss: 0.1503 - val_accuracy: 0.9453\n",
            "Epoch 49/100\n",
            "48/48 [==============================] - 27s 560ms/step - loss: 0.1729 - accuracy: 0.9458 - val_loss: 0.0758 - val_accuracy: 0.9766\n",
            "Epoch 50/100\n",
            "48/48 [==============================] - 27s 562ms/step - loss: 0.1877 - accuracy: 0.9347 - val_loss: 0.1180 - val_accuracy: 0.9453\n",
            "Epoch 51/100\n",
            "48/48 [==============================] - 27s 557ms/step - loss: 0.1745 - accuracy: 0.9451 - val_loss: 0.1912 - val_accuracy: 0.9531\n",
            "Epoch 52/100\n",
            "48/48 [==============================] - 27s 556ms/step - loss: 0.1588 - accuracy: 0.9517 - val_loss: 0.0917 - val_accuracy: 0.9609\n",
            "Epoch 53/100\n",
            "48/48 [==============================] - 27s 563ms/step - loss: 0.1690 - accuracy: 0.9432 - val_loss: 0.0821 - val_accuracy: 0.9844\n",
            "Epoch 54/100\n",
            "48/48 [==============================] - 27s 563ms/step - loss: 0.1439 - accuracy: 0.9569 - val_loss: 0.1498 - val_accuracy: 0.9453\n",
            "Epoch 55/100\n",
            "48/48 [==============================] - 27s 571ms/step - loss: 0.1592 - accuracy: 0.9484 - val_loss: 0.1034 - val_accuracy: 0.9688\n",
            "Epoch 56/100\n",
            "48/48 [==============================] - 27s 568ms/step - loss: 0.1533 - accuracy: 0.9451 - val_loss: 0.1126 - val_accuracy: 0.9766\n",
            "Epoch 57/100\n",
            "48/48 [==============================] - 27s 558ms/step - loss: 0.1670 - accuracy: 0.9504 - val_loss: 0.0859 - val_accuracy: 0.9922\n",
            "Epoch 58/100\n",
            "48/48 [==============================] - 27s 563ms/step - loss: 0.1444 - accuracy: 0.9523 - val_loss: 0.0884 - val_accuracy: 0.9766\n",
            "Epoch 59/100\n",
            "48/48 [==============================] - 27s 559ms/step - loss: 0.1531 - accuracy: 0.9491 - val_loss: 0.1127 - val_accuracy: 0.9766\n",
            "Epoch 60/100\n",
            "48/48 [==============================] - 27s 562ms/step - loss: 0.1419 - accuracy: 0.9523 - val_loss: 0.0716 - val_accuracy: 0.9844\n",
            "Epoch 61/100\n",
            "48/48 [==============================] - 27s 563ms/step - loss: 0.1556 - accuracy: 0.9536 - val_loss: 0.1037 - val_accuracy: 0.9531\n",
            "Epoch 62/100\n",
            "48/48 [==============================] - 27s 560ms/step - loss: 0.1428 - accuracy: 0.9530 - val_loss: 0.1189 - val_accuracy: 0.9688\n",
            "Epoch 63/100\n",
            "48/48 [==============================] - 27s 556ms/step - loss: 0.1507 - accuracy: 0.9536 - val_loss: 0.1798 - val_accuracy: 0.9375\n",
            "Epoch 64/100\n",
            "48/48 [==============================] - 27s 557ms/step - loss: 0.1627 - accuracy: 0.9497 - val_loss: 0.1044 - val_accuracy: 0.9531\n",
            "Epoch 65/100\n",
            "48/48 [==============================] - 27s 558ms/step - loss: 0.1458 - accuracy: 0.9530 - val_loss: 0.0881 - val_accuracy: 0.9609\n",
            "Epoch 66/100\n",
            "48/48 [==============================] - 27s 558ms/step - loss: 0.1460 - accuracy: 0.9510 - val_loss: 0.1340 - val_accuracy: 0.9297\n",
            "Epoch 67/100\n",
            "48/48 [==============================] - 27s 565ms/step - loss: 0.1440 - accuracy: 0.9536 - val_loss: 0.0542 - val_accuracy: 0.9922\n",
            "Epoch 68/100\n",
            "48/48 [==============================] - 27s 570ms/step - loss: 0.1236 - accuracy: 0.9595 - val_loss: 0.0843 - val_accuracy: 0.9688\n",
            "Epoch 69/100\n",
            "48/48 [==============================] - 27s 558ms/step - loss: 0.1442 - accuracy: 0.9530 - val_loss: 0.1506 - val_accuracy: 0.9297\n",
            "Epoch 70/100\n",
            "48/48 [==============================] - 27s 561ms/step - loss: 0.1302 - accuracy: 0.9621 - val_loss: 0.1314 - val_accuracy: 0.9531\n",
            "Epoch 71/100\n",
            "48/48 [==============================] - 27s 558ms/step - loss: 0.1225 - accuracy: 0.9621 - val_loss: 0.0860 - val_accuracy: 0.9609\n",
            "Epoch 72/100\n",
            "48/48 [==============================] - 27s 561ms/step - loss: 0.1339 - accuracy: 0.9569 - val_loss: 0.1236 - val_accuracy: 0.9688\n",
            "Epoch 73/100\n",
            "48/48 [==============================] - 27s 557ms/step - loss: 0.1277 - accuracy: 0.9589 - val_loss: 0.1027 - val_accuracy: 0.9609\n",
            "Epoch 74/100\n",
            "48/48 [==============================] - 27s 562ms/step - loss: 0.1285 - accuracy: 0.9562 - val_loss: 0.0865 - val_accuracy: 0.9766\n",
            "Epoch 75/100\n",
            "48/48 [==============================] - 27s 560ms/step - loss: 0.1269 - accuracy: 0.9589 - val_loss: 0.1119 - val_accuracy: 0.9531\n",
            "Epoch 76/100\n",
            "48/48 [==============================] - 27s 556ms/step - loss: 0.1304 - accuracy: 0.9595 - val_loss: 0.1109 - val_accuracy: 0.9688\n",
            "Epoch 77/100\n",
            "48/48 [==============================] - 27s 558ms/step - loss: 0.1248 - accuracy: 0.9575 - val_loss: 0.0792 - val_accuracy: 0.9844\n",
            "Epoch 78/100\n",
            "48/48 [==============================] - 27s 563ms/step - loss: 0.1216 - accuracy: 0.9589 - val_loss: 0.0775 - val_accuracy: 0.9766\n",
            "Epoch 79/100\n",
            "48/48 [==============================] - 27s 559ms/step - loss: 0.1220 - accuracy: 0.9608 - val_loss: 0.1209 - val_accuracy: 0.9453\n",
            "Epoch 80/100\n",
            "48/48 [==============================] - 27s 562ms/step - loss: 0.1097 - accuracy: 0.9673 - val_loss: 0.0408 - val_accuracy: 1.0000\n",
            "Epoch 81/100\n",
            "48/48 [==============================] - 27s 570ms/step - loss: 0.1174 - accuracy: 0.9582 - val_loss: 0.0945 - val_accuracy: 0.9609\n",
            "Epoch 82/100\n",
            "48/48 [==============================] - 27s 564ms/step - loss: 0.1153 - accuracy: 0.9615 - val_loss: 0.1329 - val_accuracy: 0.9453\n",
            "Epoch 83/100\n",
            "48/48 [==============================] - 27s 565ms/step - loss: 0.1181 - accuracy: 0.9615 - val_loss: 0.0617 - val_accuracy: 0.9844\n",
            "Epoch 84/100\n",
            "48/48 [==============================] - 27s 560ms/step - loss: 0.1122 - accuracy: 0.9641 - val_loss: 0.0553 - val_accuracy: 0.9844\n",
            "Epoch 85/100\n",
            "48/48 [==============================] - 27s 564ms/step - loss: 0.1055 - accuracy: 0.9628 - val_loss: 0.0678 - val_accuracy: 0.9922\n",
            "Epoch 86/100\n",
            "48/48 [==============================] - 27s 559ms/step - loss: 0.1218 - accuracy: 0.9719 - val_loss: 0.0895 - val_accuracy: 0.9688\n",
            "Epoch 87/100\n",
            "48/48 [==============================] - 27s 556ms/step - loss: 0.1137 - accuracy: 0.9628 - val_loss: 0.1258 - val_accuracy: 0.9531\n",
            "Epoch 88/100\n",
            "48/48 [==============================] - 27s 552ms/step - loss: 0.1191 - accuracy: 0.9615 - val_loss: 0.0608 - val_accuracy: 0.9844\n",
            "Epoch 89/100\n",
            "48/48 [==============================] - 27s 558ms/step - loss: 0.1081 - accuracy: 0.9673 - val_loss: 0.1229 - val_accuracy: 0.9688\n",
            "Epoch 90/100\n",
            "48/48 [==============================] - 27s 555ms/step - loss: 0.1111 - accuracy: 0.9615 - val_loss: 0.1028 - val_accuracy: 0.9609\n",
            "Epoch 91/100\n",
            "48/48 [==============================] - 27s 560ms/step - loss: 0.1069 - accuracy: 0.9602 - val_loss: 0.0272 - val_accuracy: 1.0000\n",
            "Epoch 92/100\n",
            "48/48 [==============================] - 27s 555ms/step - loss: 0.1055 - accuracy: 0.9589 - val_loss: 0.0967 - val_accuracy: 0.9766\n",
            "Epoch 93/100\n",
            "48/48 [==============================] - 27s 554ms/step - loss: 0.0996 - accuracy: 0.9686 - val_loss: 0.1098 - val_accuracy: 0.9609\n",
            "Epoch 94/100\n",
            "48/48 [==============================] - 27s 553ms/step - loss: 0.1036 - accuracy: 0.9680 - val_loss: 0.0985 - val_accuracy: 0.9688\n",
            "Epoch 95/100\n",
            "48/48 [==============================] - 27s 557ms/step - loss: 0.1103 - accuracy: 0.9628 - val_loss: 0.1261 - val_accuracy: 0.9531\n",
            "Epoch 96/100\n",
            "48/48 [==============================] - 27s 564ms/step - loss: 0.0946 - accuracy: 0.9713 - val_loss: 0.1229 - val_accuracy: 0.9531\n",
            "Epoch 97/100\n",
            "48/48 [==============================] - 27s 564ms/step - loss: 0.0939 - accuracy: 0.9693 - val_loss: 0.0911 - val_accuracy: 0.9609\n",
            "Epoch 98/100\n",
            "48/48 [==============================] - 27s 559ms/step - loss: 0.0970 - accuracy: 0.9680 - val_loss: 0.0698 - val_accuracy: 0.9766\n",
            "Epoch 99/100\n",
            "48/48 [==============================] - 27s 560ms/step - loss: 0.1122 - accuracy: 0.9628 - val_loss: 0.0655 - val_accuracy: 0.9844\n",
            "Epoch 100/100\n",
            "48/48 [==============================] - 27s 559ms/step - loss: 0.1142 - accuracy: 0.9595 - val_loss: 0.1529 - val_accuracy: 0.9531\n",
            "training time:  3150.743045091629 s\n"
          ]
        }
      ]
    },
    {
      "cell_type": "code",
      "metadata": {
        "id": "9bSoSVfDAP-g"
      },
      "source": [
        "import matplotlib.pyplot as plt\n",
        "import numpy as np\n",
        "from sklearn.metrics import classification_report, confusion_matrix"
      ],
      "execution_count": 17,
      "outputs": []
    },
    {
      "cell_type": "code",
      "metadata": {
        "colab": {
          "base_uri": "https://localhost:8080/"
        },
        "id": "xH1CaJIOCxHm",
        "outputId": "d10fb77a-7611-45c7-b947-19480ca0354a"
      },
      "source": [
        "ypred = model.predict(test_gen)\n",
        "predictions = np.argmax(ypred, axis=1)\n",
        "print(classification_report(test_gen.classes,predictions))"
      ],
      "execution_count": 18,
      "outputs": [
        {
          "output_type": "stream",
          "name": "stdout",
          "text": [
            "              precision    recall  f1-score   support\n",
            "\n",
            "           0       0.36      0.36      0.36       108\n",
            "           1       0.30      0.30      0.30       110\n",
            "           2       0.34      0.34      0.34       113\n",
            "\n",
            "    accuracy                           0.33       331\n",
            "   macro avg       0.33      0.33      0.33       331\n",
            "weighted avg       0.33      0.33      0.33       331\n",
            "\n"
          ]
        }
      ]
    },
    {
      "cell_type": "code",
      "metadata": {
        "colab": {
          "base_uri": "https://localhost:8080/",
          "height": 379
        },
        "id": "uc76OJJmEniE",
        "outputId": "f6b248af-8de1-4443-9a00-9e492c0b9a40"
      },
      "source": [
        "import itertools\n",
        "def plot_confusion_matrix(cm, classes,\n",
        "                          normalize=False,\n",
        "                          title='Confusion matrix',\n",
        "                          cmap=plt.cm.Blues):\n",
        "    if normalize:\n",
        "        cm = cm.astype('float') / cm.sum(axis=1)[:, np.newaxis]\n",
        "        print(\"Normalized confusion matrix\")\n",
        "    else:\n",
        "        print('Confusion matrix, without normalization')\n",
        "\n",
        "    print(cm)\n",
        "\n",
        "    plt.imshow(cm, interpolation='nearest', cmap=cmap)\n",
        "    plt.title(title)\n",
        "    plt.colorbar()\n",
        "    tick_marks = np.arange(len(classes))\n",
        "    plt.xticks(tick_marks, classes, rotation=45)\n",
        "    plt.yticks(tick_marks, classes)\n",
        "\n",
        "    fmt = '.2f' if normalize else 'd'\n",
        "    thresh = cm.max() / 2.\n",
        "    for i, j in itertools.product(range(cm.shape[0]), range(cm.shape[1])):\n",
        "        plt.text(j, i, format(cm[i, j], fmt),\n",
        "                 horizontalalignment=\"center\",\n",
        "                 color=\"white\" if cm[i, j] > thresh else \"black\")\n",
        "\n",
        "    plt.tight_layout()\n",
        "    plt.ylabel('True label')\n",
        "    plt.xlabel('Predicted label')\n",
        "\n",
        "cnf_matrix=confusion_matrix(test_gen.classes,predictions)\n",
        "plot_confusion_matrix(cnf_matrix, classes=test_gen.class_indices)"
      ],
      "execution_count": 19,
      "outputs": [
        {
          "output_type": "stream",
          "name": "stdout",
          "text": [
            "Confusion matrix, without normalization\n",
            "[[39 29 40]\n",
            " [43 33 34]\n",
            " [27 48 38]]\n"
          ]
        },
        {
          "output_type": "display_data",
          "data": {
            "image/png": "[encoded data removed]",
            "text/plain": [
              "<Figure size 432x288 with 2 Axes>"
            ]
          },
          "metadata": {
            "needs_background": "light"
          }
        }
      ]
    },
    {
      "cell_type": "code",
      "metadata": {
        "colab": {
          "base_uri": "https://localhost:8080/",
          "height": 581
        },
        "id": "mz06__DcEsHA",
        "outputId": "872198c6-acd6-4a16-8337-a20786f587db"
      },
      "source": [
        "plt.style.use(\"ggplot\")\n",
        "\n",
        "plt.plot(np.arange(0, 100), H.history[\"loss\"], label=\"train_loss\")\n",
        "plt.plot(np.arange(0, 100), H.history[\"val_loss\"], label=\"val_loss\")\n",
        "plt.title(\"Loss Plot\")\n",
        "plt.xlabel(\"Epoch #\")\n",
        "plt.ylabel(\"Loss\")\n",
        "plt.show()\n",
        "\n",
        "plt.plot(np.arange(0, 100), H.history[\"accuracy\"], label=\"train_acc\")\n",
        "plt.plot(np.arange(0, 100), H.history[\"val_accuracy\"], label=\"val_acc\")\n",
        "plt.title(\"Accuracy Plot\")\n",
        "plt.xlabel(\"Epoch #\")\n",
        "plt.ylabel(\"Accuracy\")\n",
        "plt.legend()\n",
        "plt.show()"
      ],
      "execution_count": 22,
      "outputs": [
        {
          "output_type": "display_data",
          "data": {
            "image/png": "[encoded data removed]",
            "text/plain": [
              "<Figure size 432x288 with 1 Axes>"
            ]
          },
          "metadata": {}
        },
        {
          "output_type": "display_data",
          "data": {
            "image/png": "[encoded data removed]",
            "text/plain": [
              "<Figure size 432x288 with 1 Axes>"
            ]
          },
          "metadata": {}
        }
      ]
    },
    {
      "cell_type": "code",
      "metadata": {
        "colab": {
          "base_uri": "https://localhost:8080/",
          "height": 299
        },
        "id": "DrEDQ4NNEymY",
        "outputId": "3c5fa21a-d8b6-4717-f3da-f4a05c0db150"
      },
      "source": [
        "import PIL\n",
        "\n",
        "def predictModel(image_path):\n",
        "    # Load and resize the image using PIL.\n",
        "    img = PIL.Image.open(image_path)\n",
        "    img_resized = img.resize((224, 224), PIL.Image.LANCZOS)\n",
        "\n",
        "    # Plot the image.\n",
        "    plt.imshow(img_resized)\n",
        "\n",
        "    # Convert the PIL image to a numpy-array with the proper shape.\n",
        "    img_array = np.expand_dims(np.array(img_resized), axis=0)\n",
        "\n",
        "    pred_coba = model.predict(img_array)\n",
        "    ahoy = model.predict(img_array)\n",
        "    \n",
        "    labels = np.argmax(ahoy, axis=1)\n",
        "\n",
        "    plt.title(f\"Pred : {ahoy}\\nLabels : {labels}\")\n",
        "\n",
        "predictModel(\"/content/drive/MyDrive/DATASETS/batuguntingkertas/test/scissors/1vQCX4af6hQmuwxZ.png\")"
      ],
      "execution_count": 27,
      "outputs": [
        {
          "output_type": "display_data",
          "data": {
            "image/png": "[encoded data removed]",
            "text/plain": [
              "<Figure size 432x288 with 1 Axes>"
            ]
          },
          "metadata": {}
        }
      ]
    },
    {
      "cell_type": "markdown",
      "metadata": {
        "id": "-zzfYOy8U4TX"
      },
      "source": [
        "## Kegiatan 2 **(berkelompok)**\n",
        "30 poin"
      ]
    },
    {
      "cell_type": "markdown",
      "metadata": {
        "id": "OuUCK4qcEp97"
      },
      "source": [
        "**Ketentuan Wajib**\n",
        "* Tulis dokumentasi tugas kelompok anda dalam file README.md\n",
        "* Cek daftar dataset seluruh praktikan [disini](https://docs.google.com/spreadsheets/d/1qyu5AVDhPhegpRTbNaDoq5qXX4_CX09Q7tYyD-fkF_c/edit?usp=sharing)\n",
        "* Seluruh data dan progress pengerjaan tugas kelompok harus berada dalam github repository sebelum praktikum dimulai\n",
        "* Tidak diperbolehkan berganti anggota kelompok selama satu semester ini\n",
        "* Tidak diperbolehkan berganti repository selama mengerjakan tugas kelompok ini\n",
        "* **Tidak diperbolehkan berganti dataset atau jurnal rujukan**\n",
        "* Pastikan anda menggunakan akun github pribadi untuk melakukan commit dan push\n",
        "\n",
        "**Penilaian**\n",
        "* Keaktifan dalam tim\n",
        "* Kontribusi dalam proyek dan tim\n",
        "* Penerapan prinsip kerja Agile (sprint backlog dan report terdokumentasikan dengan baik)\n",
        "* Progress pengerjaan tugas kelompok\n",
        "* Pemahaman masing-masing anggota tim terhadap tugas yang dikerjakan\n",
        "* Pendokumentasian proyek \"clear and clean documentation\"\n",
        "\n",
        "**Materi pendukung**\n",
        "* [Project documentation](https://realpython.com/documenting-python-code)\n",
        "* [Github readme](https://docs.github.com/en/github/writing-on-github/getting-started-with-writing-and-formatting-on-github/basic-writing-and-formatting-syntax)\n",
        "* [Sprint backlog](https://www.lucidchart.com/blog/how-to-develop-a-product-backlog-in-agile)"
      ]
    },
    {
      "cell_type": "markdown",
      "metadata": {
        "id": "u8-XbSmMp0NT"
      },
      "source": [
        "**Tugas**\n",
        "\n",
        "Melanjutkan tugas kelompok di modul 1 & 2 sekarang kerjakan beberapa poin berikut untuk didemokan kepada asisten masing-masing.\n",
        "\n",
        "*   Melakukan proses preprocessing dataset dengan ketentuan:\n",
        " * augmentasi data menggunakan ImageDataGenerator\n",
        " * splitting dataset menjadi (75% train, 14% validation, 1% test)\n",
        "*   Melakukan training beberapa skema model menggunakan model CNN sederhana buatan sendiri **(minimal 2 model)** *tidak diperbolehkan menggunakan transfer learning* \n",
        " * Menerapkan proses Convolution\n",
        " * Menerapkan proses Pooling\n",
        " * Menerapkan Dropout\n",
        " * Menerpakan BatchNormalization\n",
        " * Model dengan beberapa variasi learning rate\n",
        " * Minimal 100 epoch per model\n",
        "* Menyimpan model yang telah di training kedalam file `.h5` [Lihat disini](https://www.tensorflow.org/tutorials/keras/save_and_load)\n",
        "*  Mencatat hasil perkembangan tugas kelompok dalam file `sprint_project.xlsx` tandai masing-masing task dengan status **Done** *untuk task yang telah selesai dikerjakan*, **On Going** *untuk task yang dalam proses pengerjaan*, **Waiting** *untuk task yang belum atau akan dikerjakan*\n",
        "* Pastikan anda menulis tanggal mulai dan tanggal selesai masing-masing task dengan benar\n",
        "* Pastikan anda menulis penanggung jawab masing-masing task (Penanggung jawab bertugas menyelesaikan dan menuntaskan masing-masing task yang diberikan)\n",
        "* `commit` dan `push` seluruh perkerjaan yang anda lakukan kedalam branch pribadi dalam repository tugas kelompok yang telah anda buat sebelumnya.\n",
        "* Presentasikan kepada asisten tentang apa yang anda lakukakan selama mengerjakan tugas kelompok ini. Ceritakan tentang tugas masing-masing anggota,  kendala dalam mengerjakan tugas sampai solusi yang anda lakukan saat mengerjakan tugas kelompok ini.\n",
        "\n"
      ]
    }
  ]
}